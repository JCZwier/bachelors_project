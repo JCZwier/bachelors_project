{
 "cells": [
  {
   "cell_type": "code",
   "execution_count": 1,
   "id": "c89292e5-4b38-481b-aa88-3842fbb710d2",
   "metadata": {},
   "outputs": [],
   "source": [
    "import random\n",
    "import itertools\n",
    "import time\n",
    "import numpy as np\n",
    "import networkx as nx\n",
    "import matplotlib as mpl\n",
    "import matplotlib.pyplot as plt     # !!! replace?\n",
    "import seaborn as sns\n",
    "from collections import Counter\n",
    "\n",
    "sns.set_theme()"
   ]
  },
  {
   "cell_type": "code",
   "execution_count": 6,
   "id": "0b1b2d0c-94b7-448b-b125-3854492d4321",
   "metadata": {},
   "outputs": [],
   "source": [
    "n = 5000\t\t\t# total number of papers in the network\n",
    "c = 15\t\t\t\t# number of papers that a paper cites on average\n",
    "a = 1\t\t\t\t# ground state (paper initially only cites itself)\n",
    "p_pref = c / (a+c)\t# probability of citing a paper based on preferential attachment (1-p is the probability of citing a random paper)\n",
    "n_null = 10\t\t\t# number of null models used for the computation of z-scores"
   ]
  },
  {
   "cell_type": "code",
   "execution_count": 3,
   "id": "b4ca4ae7-31ed-4283-8406-aba2bce222cc",
   "metadata": {},
   "outputs": [],
   "source": [
    "def createCitationNetwork(n_nodes):\t# with preferential attachment\n",
    "\tdg = nx.DiGraph()\n",
    "\t\n",
    "\tfor i in range(n_nodes):\n",
    "\t\tdg.add_node(i)\n",
    "\t\t\n",
    "\t\tif i == 0:\n",
    "\t\t\tcontinue\n",
    "\t\telif i == 1:\n",
    "\t\t\tdg.add_edge(1, 0)\n",
    "\t\telif i > 1:\n",
    "\t\t\tfor j in range(min(i-1, c)):\n",
    "\t\t\t\t# !!! maybe do this differently\n",
    "\t\t\t\tcited_paper = None\n",
    "\t\t\t\tp = random.uniform(0, 1)\n",
    "\t\t\t\twhile cited_paper == None or cited_paper == i or cited_paper in dg.successors(i):\n",
    "\t\t\t\t\tif p <= p_pref:\t\t# citing a paper based on preferential attachment\n",
    "\t\t\t\t\t\tcited_paper = random.choices(list(dg.nodes), [val+1 for (node, val) in dg.in_degree()])[0]\t# +1 because a paper always cites itself\n",
    "\t\t\t\t\telse:\t# citing a random paper\n",
    "\t\t\t\t\t\tcited_paper = random.choice(list(dg.nodes))\n",
    "\t\t\t\tdg.add_edge(i, cited_paper)\n",
    "\t\t\t\t\n",
    "\treturn dg"
   ]
  },
  {
   "cell_type": "code",
   "execution_count": null,
   "id": "37eb7ff7-2335-4262-be7d-28964ff50258",
   "metadata": {},
   "outputs": [],
   "source": [
    "cn = createCitationNetwork(n)"
   ]
  },
  {
   "cell_type": "code",
   "execution_count": null,
   "id": "bb1db6f9-5908-4f4d-a83e-34bda512c722",
   "metadata": {},
   "outputs": [],
   "source": [
    "# Draw the citation network and save it as an image file\n",
    "plt.figure(figsize=(50, 50))\n",
    "fig, ax = plt.subplots()\n",
    "nx.draw_networkx(cn, pos = nx.random_layout(cn))\n",
    "plt.savefig(\"citation_network.png\")"
   ]
  },
  {
   "cell_type": "code",
   "execution_count": null,
   "id": "f5d13a1a-ce10-433c-9eb7-65362af109bf",
   "metadata": {},
   "outputs": [],
   "source": []
  }
 ],
 "metadata": {
  "kernelspec": {
   "display_name": "Python 3 (ipykernel)",
   "language": "python",
   "name": "python3"
  },
  "language_info": {
   "codemirror_mode": {
    "name": "ipython",
    "version": 3
   },
   "file_extension": ".py",
   "mimetype": "text/x-python",
   "name": "python",
   "nbconvert_exporter": "python",
   "pygments_lexer": "ipython3",
   "version": "3.11.3"
  }
 },
 "nbformat": 4,
 "nbformat_minor": 5
}
